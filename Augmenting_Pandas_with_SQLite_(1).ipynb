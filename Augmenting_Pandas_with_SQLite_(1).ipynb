{
  "nbformat": 4,
  "nbformat_minor": 0,
  "metadata": {
    "colab": {
      "provenance": [],
      "collapsed_sections": [
        "qadTA4HuceEl",
        "NOEk3_YPdg6p",
        "OA2D7o4sds1t",
        "Rt1jPEhseD8r"
      ]
    },
    "kernelspec": {
      "name": "python3",
      "display_name": "Python 3"
    },
    "language_info": {
      "name": "python"
    }
  },
  "cells": [
    {
      "cell_type": "markdown",
      "metadata": {
        "id": "2ZK7M8-wZ_J8"
      },
      "source": [
        "# Project Notebook: Augmenting Pandas with SQLite"
      ]
    },
    {
      "cell_type": "markdown",
      "metadata": {
        "id": "qadTA4HuceEl"
      },
      "source": [
        "## Question 1: Introduction"
      ]
    },
    {
      "cell_type": "markdown",
      "metadata": {
        "id": "aF9k8rixclSR"
      },
      "source": [
        "In this session, we explored a few different ways to work with larger datasets in pandas. In this guided project, we'll practice using some of the techniques we learned to analyze startup investments from Crunchbase.com.\n",
        "\n",
        "Every year, thousands of startup companies raise financing from investors. Each time a startup raises money, we refer to the event as a fundraising round. Crunchbase is a website that crowdsources information on the fundraising rounds of many startups. The Crunchbase user community submits, edits, and maintains most of the information in Crunchbase.\n",
        "\n",
        "In return, Crunchbase makes the data available through a Web application and a fee-based API. Before Crunchbase switched to the paid API model, multiple groups crawled the site and released the data online. Because the information on the startups and their fundraising rounds is always changing, the data set we'll be using isn't completely up to date.\n",
        "\n",
        "Throughout this project, we'll practice working with different memory constraints. In this step, let's assume we only have 10 megabytes of available memory. While crunchbase-investments.csv (https://bit.ly/3BPcobU) consumes 10.3 megabytes of disk space, we know from earlier lessons that pandas often requires 4 to 6 times amount of space in memory as the file does on disk (especially when there's many string columns).\n",
        "\n",
        "\n",
        "**Tasks**\n",
        "\n",
        "* Because the data set contains over 50,000 rows, you'll need to read the data set into dataframes using 5,000 row chunks to ensure that each chunk consumes much less than 10 megabytes of memory.\n",
        "* Across all of the chunks, become familiar with:\n",
        "1. Each column's missing value counts.\n",
        "2. Each column's memory footprint.\n",
        "3. The total memory footprint of all of the chunks combined.\n",
        "4. Which column(s) we can drop because they aren't useful for analysis.\n",
        "\n"
      ]
    },
    {
      "cell_type": "code",
      "metadata": {
        "id": "tOYoNl5qe1ow",
        "colab": {
          "base_uri": "https://localhost:8080/"
        },
        "outputId": "e77e0812-fe2a-4397-96d0-5ea61e185248"
      },
      "source": [
        "# Your code goes here\n",
        "# Dataset URL = https://bit.ly/3BPcobU\n",
        "#\n",
        "import pandas as pd\n",
        "chunk_iter = pd.read_csv(\"crunchbase-investments.csv\", encoding='latin1', chunksize = 5000)\n",
        "for chunk in chunk_iter:\n",
        "  print(chunk.head(5))\n",
        "  print(chunk.info())\n",
        "  break\n",
        "\n"
      ],
      "execution_count": null,
      "outputs": [
        {
          "output_type": "stream",
          "name": "stdout",
          "text": [
            "     company_permalink company_name company_category_code  \\\n",
            "0    /company/advercar     AdverCar           advertising   \n",
            "1  /company/launchgram   LaunchGram                  news   \n",
            "2        /company/utap         uTaP             messaging   \n",
            "3    /company/zoopshop     ZoopShop              software   \n",
            "4    /company/efuneral     eFuneral                   web   \n",
            "\n",
            "  company_country_code company_state_code         company_region  \\\n",
            "0                  USA                 CA                 SF Bay   \n",
            "1                  USA                 CA                 SF Bay   \n",
            "2                  USA                NaN  United States - Other   \n",
            "3                  USA                 OH               Columbus   \n",
            "4                  USA                 OH              Cleveland   \n",
            "\n",
            "    company_city          investor_permalink      investor_name  \\\n",
            "0  San Francisco  /company/1-800-flowers-com  1-800-FLOWERS.COM   \n",
            "1  Mountain View        /company/10xelerator        10Xelerator   \n",
            "2            NaN        /company/10xelerator        10Xelerator   \n",
            "3       columbus        /company/10xelerator        10Xelerator   \n",
            "4      Cleveland        /company/10xelerator        10Xelerator   \n",
            "\n",
            "  investor_category_code investor_country_code investor_state_code  \\\n",
            "0                    NaN                   USA                  NY   \n",
            "1                finance                   USA                  OH   \n",
            "2                finance                   USA                  OH   \n",
            "3                finance                   USA                  OH   \n",
            "4                finance                   USA                  OH   \n",
            "\n",
            "  investor_region investor_city funding_round_type   funded_at funded_month  \\\n",
            "0        New York      New York           series-a  2012-10-30      2012-10   \n",
            "1        Columbus      Columbus              other  2012-01-23      2012-01   \n",
            "2        Columbus      Columbus              other  2012-01-01      2012-01   \n",
            "3        Columbus      Columbus              angel  2012-02-15      2012-02   \n",
            "4        Columbus      Columbus              other  2011-09-08      2011-09   \n",
            "\n",
            "  funded_quarter  funded_year  raised_amount_usd  \n",
            "0        2012-Q4         2012          2000000.0  \n",
            "1        2012-Q1         2012            20000.0  \n",
            "2        2012-Q1         2012            20000.0  \n",
            "3        2012-Q1         2012            20000.0  \n",
            "4        2011-Q3         2011            20000.0  \n",
            "<class 'pandas.core.frame.DataFrame'>\n",
            "RangeIndex: 5000 entries, 0 to 4999\n",
            "Data columns (total 20 columns):\n",
            " #   Column                  Non-Null Count  Dtype  \n",
            "---  ------                  --------------  -----  \n",
            " 0   company_permalink       5000 non-null   object \n",
            " 1   company_name            5000 non-null   object \n",
            " 2   company_category_code   4948 non-null   object \n",
            " 3   company_country_code    5000 non-null   object \n",
            " 4   company_state_code      4947 non-null   object \n",
            " 5   company_region          5000 non-null   object \n",
            " 6   company_city            4936 non-null   object \n",
            " 7   investor_permalink      5000 non-null   object \n",
            " 8   investor_name           5000 non-null   object \n",
            " 9   investor_category_code  2443 non-null   object \n",
            " 10  investor_country_code   4222 non-null   object \n",
            " 11  investor_state_code     3629 non-null   object \n",
            " 12  investor_region         5000 non-null   object \n",
            " 13  investor_city           4100 non-null   object \n",
            " 14  funding_round_type      5000 non-null   object \n",
            " 15  funded_at               5000 non-null   object \n",
            " 16  funded_month            5000 non-null   object \n",
            " 17  funded_quarter          5000 non-null   object \n",
            " 18  funded_year             5000 non-null   int64  \n",
            " 19  raised_amount_usd       4347 non-null   float64\n",
            "dtypes: float64(1), int64(1), object(18)\n",
            "memory usage: 781.4+ KB\n",
            "None\n"
          ]
        }
      ]
    },
    {
      "cell_type": "code",
      "source": [
        "chunk.memory_usage(deep = True)\n"
      ],
      "metadata": {
        "id": "2GH7PI57sXBq",
        "colab": {
          "base_uri": "https://localhost:8080/"
        },
        "outputId": "86174bec-2bc6-4b72-d686-fc32204dad16"
      },
      "execution_count": null,
      "outputs": [
        {
          "output_type": "execute_result",
          "data": {
            "text/plain": [
              "Index                        128\n",
              "company_permalink         383495\n",
              "company_name              339562\n",
              "company_category_code     323227\n",
              "company_country_code      300000\n",
              "company_state_code        293569\n",
              "company_region            323122\n",
              "company_city              330557\n",
              "investor_permalink        425849\n",
              "investor_name             357211\n",
              "investor_category_code    239464\n",
              "investor_country_code     278216\n",
              "investor_state_code       257983\n",
              "investor_region           321792\n",
              "investor_city             300464\n",
              "funding_round_type        320619\n",
              "funded_at                 335000\n",
              "funded_month              320000\n",
              "funded_quarter            320000\n",
              "funded_year                40000\n",
              "raised_amount_usd          40000\n",
              "dtype: int64"
            ]
          },
          "metadata": {},
          "execution_count": 2
        }
      ]
    },
    {
      "cell_type": "markdown",
      "source": [
        "The total memory footprint of all of the chunks combined."
      ],
      "metadata": {
        "id": "RI1EwL2JtAJT"
      }
    },
    {
      "cell_type": "code",
      "source": [
        "\n",
        "memory_footprints = []\n",
        "chunk_iter = pd.read_csv(\"crunchbase-investments.csv\", encoding='latin1', chunksize = 5000)\n",
        "for chunk in chunk_iter:\n",
        "    memory_footprints.append(chunk.memory_usage(deep=True).sum()/(1024*1024))\n",
        "print(sum(memory_footprints))\n",
        " "
      ],
      "metadata": {
        "id": "w6FwaqgxtL2g",
        "colab": {
          "base_uri": "https://localhost:8080/"
        },
        "outputId": "e21f78f3-a4c0-4a61-cf17-3821b0063c4c"
      },
      "execution_count": null,
      "outputs": [
        {
          "output_type": "stream",
          "name": "stdout",
          "text": [
            "56.988911628723145\n"
          ]
        }
      ]
    },
    {
      "cell_type": "markdown",
      "source": [
        "Which column(s) we can drop because they aren't useful for analysis."
      ],
      "metadata": {
        "id": "NVZq_2px2lAm"
      }
    },
    {
      "cell_type": "code",
      "source": [
        "df = pd.read_csv(\"crunchbase-investments.csv\", encoding='latin1')\n",
        "df.drop(['investor_country_code', 'investor_state_code','investor_category_code', 'company_city','raised_amount_usd','investor_city','company_state_code','company_category_code',], axis = 1)"
      ],
      "metadata": {
        "id": "GEBYjMWd2oDg",
        "colab": {
          "base_uri": "https://localhost:8080/",
          "height": 696
        },
        "outputId": "d148aea9-7121-4d73-9302-84c827a231fb"
      },
      "execution_count": null,
      "outputs": [
        {
          "output_type": "stream",
          "name": "stderr",
          "text": [
            "/usr/local/lib/python3.8/dist-packages/IPython/core/interactiveshell.py:3326: DtypeWarning: Columns (9) have mixed types.Specify dtype option on import or set low_memory=False.\n",
            "  exec(code_obj, self.user_global_ns, self.user_ns)\n"
          ]
        },
        {
          "output_type": "execute_result",
          "data": {
            "text/plain": [
              "                 company_permalink        company_name company_country_code  \\\n",
              "0                /company/advercar            AdverCar                  USA   \n",
              "1              /company/launchgram          LaunchGram                  USA   \n",
              "2                    /company/utap                uTaP                  USA   \n",
              "3                /company/zoopshop            ZoopShop                  USA   \n",
              "4                /company/efuneral            eFuneral                  USA   \n",
              "...                            ...                 ...                  ...   \n",
              "52865       /company/garantia-data       Garantia Data                  USA   \n",
              "52866         /company/duda-mobile          DudaMobile                  USA   \n",
              "52867          /company/sitebrains          SiteBrains                  USA   \n",
              "52868  /company/comprehend-systems  Comprehend Systems                  USA   \n",
              "52869         /company/smartthings         SmartThings                  USA   \n",
              "\n",
              "              company_region          investor_permalink      investor_name  \\\n",
              "0                     SF Bay  /company/1-800-flowers-com  1-800-FLOWERS.COM   \n",
              "1                     SF Bay        /company/10xelerator        10Xelerator   \n",
              "2      United States - Other        /company/10xelerator        10Xelerator   \n",
              "3                   Columbus        /company/10xelerator        10Xelerator   \n",
              "4                  Cleveland        /company/10xelerator        10Xelerator   \n",
              "...                      ...                         ...                ...   \n",
              "52865                 SF Bay         /person/zohar-gilon        Zohar Gilon   \n",
              "52866                 SF Bay         /person/zohar-gilon        Zohar Gilon   \n",
              "52867                 SF Bay        /person/zohar-israel       zohar israel   \n",
              "52868                 SF Bay     /person/zorba-lieberman    Zorba Lieberman   \n",
              "52869                unknown        /person/zorik-gordon       Zorik Gordon   \n",
              "\n",
              "      investor_region funding_round_type   funded_at funded_month  \\\n",
              "0            New York           series-a  2012-10-30      2012-10   \n",
              "1            Columbus              other  2012-01-23      2012-01   \n",
              "2            Columbus              other  2012-01-01      2012-01   \n",
              "3            Columbus              angel  2012-02-15      2012-02   \n",
              "4            Columbus              other  2011-09-08      2011-09   \n",
              "...               ...                ...         ...          ...   \n",
              "52865         unknown           series-a  2012-08-08      2012-08   \n",
              "52866         unknown          series-c+  2013-04-08      2013-04   \n",
              "52867         unknown              angel  2010-08-01      2010-08   \n",
              "52868         unknown           series-a  2013-07-11      2013-07   \n",
              "52869         unknown           series-a  2012-12-04      2012-12   \n",
              "\n",
              "      funded_quarter  funded_year  \n",
              "0            2012-Q4       2012.0  \n",
              "1            2012-Q1       2012.0  \n",
              "2            2012-Q1       2012.0  \n",
              "3            2012-Q1       2012.0  \n",
              "4            2011-Q3       2011.0  \n",
              "...              ...          ...  \n",
              "52865        2012-Q3       2012.0  \n",
              "52866        2013-Q2       2013.0  \n",
              "52867        2010-Q3       2010.0  \n",
              "52868        2013-Q3       2013.0  \n",
              "52869        2012-Q4       2012.0  \n",
              "\n",
              "[52870 rows x 12 columns]"
            ],
            "text/html": [
              "\n",
              "  <div id=\"df-49bcc100-502e-42be-a096-34e5f4096e7f\">\n",
              "    <div class=\"colab-df-container\">\n",
              "      <div>\n",
              "<style scoped>\n",
              "    .dataframe tbody tr th:only-of-type {\n",
              "        vertical-align: middle;\n",
              "    }\n",
              "\n",
              "    .dataframe tbody tr th {\n",
              "        vertical-align: top;\n",
              "    }\n",
              "\n",
              "    .dataframe thead th {\n",
              "        text-align: right;\n",
              "    }\n",
              "</style>\n",
              "<table border=\"1\" class=\"dataframe\">\n",
              "  <thead>\n",
              "    <tr style=\"text-align: right;\">\n",
              "      <th></th>\n",
              "      <th>company_permalink</th>\n",
              "      <th>company_name</th>\n",
              "      <th>company_country_code</th>\n",
              "      <th>company_region</th>\n",
              "      <th>investor_permalink</th>\n",
              "      <th>investor_name</th>\n",
              "      <th>investor_region</th>\n",
              "      <th>funding_round_type</th>\n",
              "      <th>funded_at</th>\n",
              "      <th>funded_month</th>\n",
              "      <th>funded_quarter</th>\n",
              "      <th>funded_year</th>\n",
              "    </tr>\n",
              "  </thead>\n",
              "  <tbody>\n",
              "    <tr>\n",
              "      <th>0</th>\n",
              "      <td>/company/advercar</td>\n",
              "      <td>AdverCar</td>\n",
              "      <td>USA</td>\n",
              "      <td>SF Bay</td>\n",
              "      <td>/company/1-800-flowers-com</td>\n",
              "      <td>1-800-FLOWERS.COM</td>\n",
              "      <td>New York</td>\n",
              "      <td>series-a</td>\n",
              "      <td>2012-10-30</td>\n",
              "      <td>2012-10</td>\n",
              "      <td>2012-Q4</td>\n",
              "      <td>2012.0</td>\n",
              "    </tr>\n",
              "    <tr>\n",
              "      <th>1</th>\n",
              "      <td>/company/launchgram</td>\n",
              "      <td>LaunchGram</td>\n",
              "      <td>USA</td>\n",
              "      <td>SF Bay</td>\n",
              "      <td>/company/10xelerator</td>\n",
              "      <td>10Xelerator</td>\n",
              "      <td>Columbus</td>\n",
              "      <td>other</td>\n",
              "      <td>2012-01-23</td>\n",
              "      <td>2012-01</td>\n",
              "      <td>2012-Q1</td>\n",
              "      <td>2012.0</td>\n",
              "    </tr>\n",
              "    <tr>\n",
              "      <th>2</th>\n",
              "      <td>/company/utap</td>\n",
              "      <td>uTaP</td>\n",
              "      <td>USA</td>\n",
              "      <td>United States - Other</td>\n",
              "      <td>/company/10xelerator</td>\n",
              "      <td>10Xelerator</td>\n",
              "      <td>Columbus</td>\n",
              "      <td>other</td>\n",
              "      <td>2012-01-01</td>\n",
              "      <td>2012-01</td>\n",
              "      <td>2012-Q1</td>\n",
              "      <td>2012.0</td>\n",
              "    </tr>\n",
              "    <tr>\n",
              "      <th>3</th>\n",
              "      <td>/company/zoopshop</td>\n",
              "      <td>ZoopShop</td>\n",
              "      <td>USA</td>\n",
              "      <td>Columbus</td>\n",
              "      <td>/company/10xelerator</td>\n",
              "      <td>10Xelerator</td>\n",
              "      <td>Columbus</td>\n",
              "      <td>angel</td>\n",
              "      <td>2012-02-15</td>\n",
              "      <td>2012-02</td>\n",
              "      <td>2012-Q1</td>\n",
              "      <td>2012.0</td>\n",
              "    </tr>\n",
              "    <tr>\n",
              "      <th>4</th>\n",
              "      <td>/company/efuneral</td>\n",
              "      <td>eFuneral</td>\n",
              "      <td>USA</td>\n",
              "      <td>Cleveland</td>\n",
              "      <td>/company/10xelerator</td>\n",
              "      <td>10Xelerator</td>\n",
              "      <td>Columbus</td>\n",
              "      <td>other</td>\n",
              "      <td>2011-09-08</td>\n",
              "      <td>2011-09</td>\n",
              "      <td>2011-Q3</td>\n",
              "      <td>2011.0</td>\n",
              "    </tr>\n",
              "    <tr>\n",
              "      <th>...</th>\n",
              "      <td>...</td>\n",
              "      <td>...</td>\n",
              "      <td>...</td>\n",
              "      <td>...</td>\n",
              "      <td>...</td>\n",
              "      <td>...</td>\n",
              "      <td>...</td>\n",
              "      <td>...</td>\n",
              "      <td>...</td>\n",
              "      <td>...</td>\n",
              "      <td>...</td>\n",
              "      <td>...</td>\n",
              "    </tr>\n",
              "    <tr>\n",
              "      <th>52865</th>\n",
              "      <td>/company/garantia-data</td>\n",
              "      <td>Garantia Data</td>\n",
              "      <td>USA</td>\n",
              "      <td>SF Bay</td>\n",
              "      <td>/person/zohar-gilon</td>\n",
              "      <td>Zohar Gilon</td>\n",
              "      <td>unknown</td>\n",
              "      <td>series-a</td>\n",
              "      <td>2012-08-08</td>\n",
              "      <td>2012-08</td>\n",
              "      <td>2012-Q3</td>\n",
              "      <td>2012.0</td>\n",
              "    </tr>\n",
              "    <tr>\n",
              "      <th>52866</th>\n",
              "      <td>/company/duda-mobile</td>\n",
              "      <td>DudaMobile</td>\n",
              "      <td>USA</td>\n",
              "      <td>SF Bay</td>\n",
              "      <td>/person/zohar-gilon</td>\n",
              "      <td>Zohar Gilon</td>\n",
              "      <td>unknown</td>\n",
              "      <td>series-c+</td>\n",
              "      <td>2013-04-08</td>\n",
              "      <td>2013-04</td>\n",
              "      <td>2013-Q2</td>\n",
              "      <td>2013.0</td>\n",
              "    </tr>\n",
              "    <tr>\n",
              "      <th>52867</th>\n",
              "      <td>/company/sitebrains</td>\n",
              "      <td>SiteBrains</td>\n",
              "      <td>USA</td>\n",
              "      <td>SF Bay</td>\n",
              "      <td>/person/zohar-israel</td>\n",
              "      <td>zohar israel</td>\n",
              "      <td>unknown</td>\n",
              "      <td>angel</td>\n",
              "      <td>2010-08-01</td>\n",
              "      <td>2010-08</td>\n",
              "      <td>2010-Q3</td>\n",
              "      <td>2010.0</td>\n",
              "    </tr>\n",
              "    <tr>\n",
              "      <th>52868</th>\n",
              "      <td>/company/comprehend-systems</td>\n",
              "      <td>Comprehend Systems</td>\n",
              "      <td>USA</td>\n",
              "      <td>SF Bay</td>\n",
              "      <td>/person/zorba-lieberman</td>\n",
              "      <td>Zorba Lieberman</td>\n",
              "      <td>unknown</td>\n",
              "      <td>series-a</td>\n",
              "      <td>2013-07-11</td>\n",
              "      <td>2013-07</td>\n",
              "      <td>2013-Q3</td>\n",
              "      <td>2013.0</td>\n",
              "    </tr>\n",
              "    <tr>\n",
              "      <th>52869</th>\n",
              "      <td>/company/smartthings</td>\n",
              "      <td>SmartThings</td>\n",
              "      <td>USA</td>\n",
              "      <td>unknown</td>\n",
              "      <td>/person/zorik-gordon</td>\n",
              "      <td>Zorik Gordon</td>\n",
              "      <td>unknown</td>\n",
              "      <td>series-a</td>\n",
              "      <td>2012-12-04</td>\n",
              "      <td>2012-12</td>\n",
              "      <td>2012-Q4</td>\n",
              "      <td>2012.0</td>\n",
              "    </tr>\n",
              "  </tbody>\n",
              "</table>\n",
              "<p>52870 rows × 12 columns</p>\n",
              "</div>\n",
              "      <button class=\"colab-df-convert\" onclick=\"convertToInteractive('df-49bcc100-502e-42be-a096-34e5f4096e7f')\"\n",
              "              title=\"Convert this dataframe to an interactive table.\"\n",
              "              style=\"display:none;\">\n",
              "        \n",
              "  <svg xmlns=\"http://www.w3.org/2000/svg\" height=\"24px\"viewBox=\"0 0 24 24\"\n",
              "       width=\"24px\">\n",
              "    <path d=\"M0 0h24v24H0V0z\" fill=\"none\"/>\n",
              "    <path d=\"M18.56 5.44l.94 2.06.94-2.06 2.06-.94-2.06-.94-.94-2.06-.94 2.06-2.06.94zm-11 1L8.5 8.5l.94-2.06 2.06-.94-2.06-.94L8.5 2.5l-.94 2.06-2.06.94zm10 10l.94 2.06.94-2.06 2.06-.94-2.06-.94-.94-2.06-.94 2.06-2.06.94z\"/><path d=\"M17.41 7.96l-1.37-1.37c-.4-.4-.92-.59-1.43-.59-.52 0-1.04.2-1.43.59L10.3 9.45l-7.72 7.72c-.78.78-.78 2.05 0 2.83L4 21.41c.39.39.9.59 1.41.59.51 0 1.02-.2 1.41-.59l7.78-7.78 2.81-2.81c.8-.78.8-2.07 0-2.86zM5.41 20L4 18.59l7.72-7.72 1.47 1.35L5.41 20z\"/>\n",
              "  </svg>\n",
              "      </button>\n",
              "      \n",
              "  <style>\n",
              "    .colab-df-container {\n",
              "      display:flex;\n",
              "      flex-wrap:wrap;\n",
              "      gap: 12px;\n",
              "    }\n",
              "\n",
              "    .colab-df-convert {\n",
              "      background-color: #E8F0FE;\n",
              "      border: none;\n",
              "      border-radius: 50%;\n",
              "      cursor: pointer;\n",
              "      display: none;\n",
              "      fill: #1967D2;\n",
              "      height: 32px;\n",
              "      padding: 0 0 0 0;\n",
              "      width: 32px;\n",
              "    }\n",
              "\n",
              "    .colab-df-convert:hover {\n",
              "      background-color: #E2EBFA;\n",
              "      box-shadow: 0px 1px 2px rgba(60, 64, 67, 0.3), 0px 1px 3px 1px rgba(60, 64, 67, 0.15);\n",
              "      fill: #174EA6;\n",
              "    }\n",
              "\n",
              "    [theme=dark] .colab-df-convert {\n",
              "      background-color: #3B4455;\n",
              "      fill: #D2E3FC;\n",
              "    }\n",
              "\n",
              "    [theme=dark] .colab-df-convert:hover {\n",
              "      background-color: #434B5C;\n",
              "      box-shadow: 0px 1px 3px 1px rgba(0, 0, 0, 0.15);\n",
              "      filter: drop-shadow(0px 1px 2px rgba(0, 0, 0, 0.3));\n",
              "      fill: #FFFFFF;\n",
              "    }\n",
              "  </style>\n",
              "\n",
              "      <script>\n",
              "        const buttonEl =\n",
              "          document.querySelector('#df-49bcc100-502e-42be-a096-34e5f4096e7f button.colab-df-convert');\n",
              "        buttonEl.style.display =\n",
              "          google.colab.kernel.accessAllowed ? 'block' : 'none';\n",
              "\n",
              "        async function convertToInteractive(key) {\n",
              "          const element = document.querySelector('#df-49bcc100-502e-42be-a096-34e5f4096e7f');\n",
              "          const dataTable =\n",
              "            await google.colab.kernel.invokeFunction('convertToInteractive',\n",
              "                                                     [key], {});\n",
              "          if (!dataTable) return;\n",
              "\n",
              "          const docLinkHtml = 'Like what you see? Visit the ' +\n",
              "            '<a target=\"_blank\" href=https://colab.research.google.com/notebooks/data_table.ipynb>data table notebook</a>'\n",
              "            + ' to learn more about interactive tables.';\n",
              "          element.innerHTML = '';\n",
              "          dataTable['output_type'] = 'display_data';\n",
              "          await google.colab.output.renderOutput(dataTable, element);\n",
              "          const docLink = document.createElement('div');\n",
              "          docLink.innerHTML = docLinkHtml;\n",
              "          element.appendChild(docLink);\n",
              "        }\n",
              "      </script>\n",
              "    </div>\n",
              "  </div>\n",
              "  "
            ]
          },
          "metadata": {},
          "execution_count": 4
        }
      ]
    },
    {
      "cell_type": "markdown",
      "source": [
        "Each column's missing value counts."
      ],
      "metadata": {
        "id": "HhY0Y-E_weEz"
      }
    },
    {
      "cell_type": "code",
      "source": [
        "print( df.isnull().sum())"
      ],
      "metadata": {
        "id": "ZQVwahecwjhn",
        "colab": {
          "base_uri": "https://localhost:8080/"
        },
        "outputId": "be260a9d-3c07-4807-c975-28de192e4ae6"
      },
      "execution_count": null,
      "outputs": [
        {
          "output_type": "stream",
          "name": "stdout",
          "text": [
            "company_permalink             1\n",
            "company_name                  1\n",
            "company_category_code       643\n",
            "company_country_code          1\n",
            "company_state_code          492\n",
            "company_region                1\n",
            "company_city                533\n",
            "investor_permalink            2\n",
            "investor_name                 2\n",
            "investor_category_code    50427\n",
            "investor_country_code     12001\n",
            "investor_state_code       16809\n",
            "investor_region               2\n",
            "investor_city             12480\n",
            "funding_round_type            3\n",
            "funded_at                     3\n",
            "funded_month                  3\n",
            "funded_quarter                3\n",
            "funded_year                   3\n",
            "raised_amount_usd          3599\n",
            "dtype: int64\n"
          ]
        }
      ]
    },
    {
      "cell_type": "markdown",
      "metadata": {
        "id": "NOEk3_YPdg6p"
      },
      "source": [
        "## Question 2: Selecting Data Types"
      ]
    },
    {
      "cell_type": "markdown",
      "metadata": {
        "id": "FD1IqmzhcEd3"
      },
      "source": [
        "Now that we have a good sense of the missing values, let's get familiar with the column types before adding the data into SQLite.\n",
        "\n",
        "**Tasks**\n",
        "\n",
        "* Identify the types for each column.\n",
        "* Identify the numeric columns we can represent using more space efficient types.\n",
        "For text columns:\n",
        "* Analyze the unique value counts across all of the chunks to see if we can convert them to a numeric type.\n",
        "* See if we clean clean any text columns and separate them into multiple numeric columns without adding any overhead when querying.\n",
        "* Make your changes to the code from the last step so that the overall memory the data consumes stays under 10 megabytes.\n"
      ]
    },
    {
      "cell_type": "code",
      "metadata": {
        "id": "QNgzuiStZ3WN"
      },
      "source": [
        "# Your code goes here"
      ],
      "execution_count": null,
      "outputs": []
    },
    {
      "cell_type": "markdown",
      "source": [
        "Identify the types for each column"
      ],
      "metadata": {
        "id": "Eq7K8Z9w41KK"
      }
    },
    {
      "cell_type": "code",
      "source": [
        "print(df.info())"
      ],
      "metadata": {
        "id": "XQq7IbZPJWVQ",
        "colab": {
          "base_uri": "https://localhost:8080/"
        },
        "outputId": "99762b79-a7ce-48cf-bdcd-262e2b26280b"
      },
      "execution_count": null,
      "outputs": [
        {
          "output_type": "stream",
          "name": "stdout",
          "text": [
            "<class 'pandas.core.frame.DataFrame'>\n",
            "RangeIndex: 52870 entries, 0 to 52869\n",
            "Data columns (total 20 columns):\n",
            " #   Column                  Non-Null Count  Dtype  \n",
            "---  ------                  --------------  -----  \n",
            " 0   company_permalink       52869 non-null  object \n",
            " 1   company_name            52869 non-null  object \n",
            " 2   company_category_code   52227 non-null  object \n",
            " 3   company_country_code    52869 non-null  object \n",
            " 4   company_state_code      52378 non-null  object \n",
            " 5   company_region          52869 non-null  object \n",
            " 6   company_city            52337 non-null  object \n",
            " 7   investor_permalink      52868 non-null  object \n",
            " 8   investor_name           52868 non-null  object \n",
            " 9   investor_category_code  2443 non-null   object \n",
            " 10  investor_country_code   40869 non-null  object \n",
            " 11  investor_state_code     36061 non-null  object \n",
            " 12  investor_region         52868 non-null  object \n",
            " 13  investor_city           40390 non-null  object \n",
            " 14  funding_round_type      52867 non-null  object \n",
            " 15  funded_at               52867 non-null  object \n",
            " 16  funded_month            52867 non-null  object \n",
            " 17  funded_quarter          52867 non-null  object \n",
            " 18  funded_year             52867 non-null  float64\n",
            " 19  raised_amount_usd       49271 non-null  float64\n",
            "dtypes: float64(2), object(18)\n",
            "memory usage: 8.1+ MB\n",
            "None\n"
          ]
        }
      ]
    },
    {
      "cell_type": "markdown",
      "source": [
        "Identify the numeric columns we can represent using more space efficient types. For text columns:"
      ],
      "metadata": {
        "id": "nhvnXMNm_I5K"
      }
    },
    {
      "cell_type": "code",
      "source": [
        "numeric= ['int16', 'int32', 'int64', 'float16', 'float32', 'float64']\n",
        "\n",
        "numeric_cols = df.select_dtypes(include=numeric).columns\n",
        "numeric_cols\n",
        "# Write you code below\n"
      ],
      "metadata": {
        "colab": {
          "base_uri": "https://localhost:8080/"
        },
        "id": "RV2QSqfx7DYi",
        "outputId": "42180dbc-e2f7-4ac1-ec93-056a37ffd14d"
      },
      "execution_count": null,
      "outputs": [
        {
          "output_type": "execute_result",
          "data": {
            "text/plain": [
              "Index(['funded_year', 'raised_amount_usd'], dtype='object')"
            ]
          },
          "metadata": {},
          "execution_count": 14
        }
      ]
    },
    {
      "cell_type": "markdown",
      "source": [
        "Analyze the unique value counts across all of the chunks to see if we can convert them to a numeric type."
      ],
      "metadata": {
        "id": "3X0YAY7Q_Qd-"
      }
    },
    {
      "cell_type": "code",
      "source": [
        "crunchbase_iter = pd.read_csv(\"crunchbase-investments.csv\", encoding='latin1', chunksize = 5000)\n",
        "for crunchbase in crunchbase_iter:\n",
        "    chunk_vc = crunchbase.value_counts()\n",
        "    print(chunk_vc)\n",
        "\n"
      ],
      "metadata": {
        "colab": {
          "base_uri": "https://localhost:8080/"
        },
        "id": "DTfexR6e_UNn",
        "outputId": "3ce2e02d-b8d5-49f1-fef0-8148a59d185b"
      },
      "execution_count": null,
      "outputs": [
        {
          "output_type": "stream",
          "name": "stdout",
          "text": [
            "company_permalink                           company_name                       company_category_code  company_country_code  company_state_code  company_region  company_city   investor_permalink                 investor_name             investor_category_code  investor_country_code  investor_state_code  investor_region  investor_city  funding_round_type  funded_at   funded_month  funded_quarter  funded_year  raised_amount_usd\n",
            "/company/massachusetts-clean-energy-center  Massachusetts Clean Energy Center  cleantech              USA                   MA                  Boston          Boston         /company/north-shore-innoventures  North Shore InnoVentures  biotech                 USA                    MA                   Boston           Beverly        angel               2013-09-05  2013-09       2013-Q3         2013         300000.0             2\n",
            "/company/1000memories                       1000memories                       web                    USA                   CA                  SF Bay          San Francisco  /company/y-combinator              Y Combinator              finance                 USA                    CA                   SF Bay           Mountain View  angel               2010-01-01  2010-01       2010-Q1         2010         15000.0              1\n",
            "/company/posterous                          Posterous                          web                    USA                   CA                  SF Bay          San Francisco  /company/y-combinator              Y Combinator              finance                 USA                    CA                   SF Bay           Mountain View  angel               2008-05-01  2008-05       2008-Q2         2008         15000.0              1\n",
            "/company/priceonomics                       Priceonomics                       web                    USA                   CA                  SF Bay          San Francisco  /company/y-combinator              Y Combinator              finance                 USA                    CA                   SF Bay           Mountain View  angel               2011-12-01  2011-12       2011-Q4         2011         20000.0              1\n",
            "/company/pressgram                          Pressgram                          photo_video            USA                   GA                  Atlanta         Atlanta        /company/kickstarter               Kickstarter               finance                 USA                    NY                   New York         New York       crowdfunding        2013-04-15  2013-04       2013-Q2         2013         56500.0              1\n",
            "                                                                                                                                                                                                                                                                                                                                                                                                                                               ..\n",
            "/company/flashstarts                        FlashStarts                        software               USA                   OH                  Cleveland       Cleveland      /company/flashstarts               FlashStarts               software                USA                    OH                   Cleveland        Cleveland      angel               2013-06-01  2013-06       2013-Q2         2013         14000.0              1\n",
            "/company/fivestars                          FiveStars Loyalty                  advertising            USA                   CA                  SF Bay          San Francisco  /company/y-combinator              Y Combinator              finance                 USA                    CA                   SF Bay           Mountain View  angel               2011-01-01  2011-01       2011-Q1         2011         150000.0             1\n",
            "/company/fitnesskeeper                      FitnessKeeper                      health                 USA                   MA                  Boston          Boston         /company/revolution                Revolution LLC            other                   USA                    DC                   Washington DC    Washington     series-b            2011-11-21  2011-11       2011-Q4         2011         10000000.0           1\n",
            "/company/fisker                             Fisker Automotive                  automotive             USA                   CA                  Los Angeles     Irvine         /company/a123systems               A123 Systems              nanotech                USA                    MA                   Boston           Watertown      venture             2011-02-22  2011-02       2011-Q1         2011         150000000.0          1\n",
            "/company/zynga                              Zynga                              games_video            USA                   CA                  SF Bay          San Francisco  /company/google                    Google                    search                  USA                    CA                   SF Bay           Mountain View  series-b            2010-06-14  2010-06       2010-Q2         2010         300000000.0          1\n",
            "Length: 1577, dtype: int64\n",
            "Series([], dtype: int64)\n",
            "Series([], dtype: int64)\n",
            "Series([], dtype: int64)\n",
            "Series([], dtype: int64)\n",
            "Series([], dtype: int64)\n",
            "Series([], dtype: int64)\n",
            "Series([], dtype: int64)\n",
            "Series([], dtype: int64)\n",
            "Series([], dtype: int64)\n",
            "Series([], dtype: int64)\n"
          ]
        }
      ]
    },
    {
      "cell_type": "code",
      "source": [
        "# my answer\n",
        "crunchbase_iter = pd.read_csv(\"crunchbase-investments.csv\", encoding='latin1', chunksize = 5000)\n",
        "# chunk_iter = pd.read_csv(\"loans_2007.csv\", chunksize=1000)\n",
        "overall_vc = list()\n",
        "for chunk in crunchbase_iter:\n",
        "  for col in chunk:\n",
        "    chunk_vc = {col:chunk[col].nunique()}\n",
        "    overall_vc.append(pd.Series(chunk_vc))\n",
        "combined_vc = pd.concat(overall_vc)\n",
        "combined_vc = combined_vc.groupby(combined_vc.index).sum()\n",
        "print(combined_vc)\n"
      ],
      "metadata": {
        "colab": {
          "base_uri": "https://localhost:8080/"
        },
        "id": "v0VY4BhWOkwm",
        "outputId": "81efe9af-0722-4c03-8dc6-2875f074c6fe"
      },
      "execution_count": null,
      "outputs": [
        {
          "output_type": "stream",
          "name": "stdout",
          "text": [
            "company_category_code       451\n",
            "company_city               5181\n",
            "company_country_code         12\n",
            "company_name              30586\n",
            "company_permalink         30586\n",
            "company_region             2066\n",
            "company_state_code          494\n",
            "funded_at                 18304\n",
            "funded_month               1676\n",
            "funded_quarter              656\n",
            "funded_year                 183\n",
            "funding_round_type           88\n",
            "investor_category_code       33\n",
            "investor_city              2038\n",
            "investor_country_code       310\n",
            "investor_name             10485\n",
            "investor_permalink        10558\n",
            "investor_region            1337\n",
            "investor_state_code         327\n",
            "raised_amount_usd          6280\n",
            "dtype: int64\n"
          ]
        }
      ]
    },
    {
      "cell_type": "code",
      "source": [
        "crunchbase_iter = pd.read_csv(\"crunchbase-investments.csv\", encoding='latin1')\n",
        "crunchbase_iter.nunique()"
      ],
      "metadata": {
        "colab": {
          "base_uri": "https://localhost:8080/"
        },
        "id": "Cvlxkn68OyXu",
        "outputId": "a900e171-44b3-43d4-aa1c-aba5598274c9"
      },
      "execution_count": null,
      "outputs": [
        {
          "output_type": "execute_result",
          "data": {
            "text/plain": [
              "company_permalink         11573\n",
              "company_name              11573\n",
              "company_category_code        43\n",
              "company_country_code          2\n",
              "company_state_code           50\n",
              "company_region              546\n",
              "company_city               1229\n",
              "investor_permalink        10552\n",
              "investor_name             10465\n",
              "investor_category_code       33\n",
              "investor_country_code        72\n",
              "investor_state_code          50\n",
              "investor_region             585\n",
              "investor_city               990\n",
              "funding_round_type            9\n",
              "funded_at                  2808\n",
              "funded_month                192\n",
              "funded_quarter               72\n",
              "funded_year                  20\n",
              "raised_amount_usd          1458\n",
              "dtype: int64"
            ]
          },
          "metadata": {},
          "execution_count": 16
        }
      ]
    },
    {
      "cell_type": "markdown",
      "source": [
        "See if we clean clean any text columns and separate them into multiple numeric columns without adding any overhead when querying."
      ],
      "metadata": {
        "id": "I-_S-ndLKdnk"
      }
    },
    {
      "cell_type": "markdown",
      "metadata": {
        "id": "OA2D7o4sds1t"
      },
      "source": [
        "## Question 3: Loading Chunks Into SQLite"
      ]
    },
    {
      "cell_type": "markdown",
      "metadata": {
        "id": "ptu8Xr25dvcF"
      },
      "source": [
        "Now we're in good shape to start exploring and analyzing the data. The next step is to load each chunk into a table in a SQLite database so we can query the full data set.\n",
        "\n",
        "**Tasks**\n",
        "\n",
        "1. Create and connect to a new SQLite database file.\n",
        "2. Expand on the existing chunk processing code to export each chunk to a new table in the SQLite database.\n",
        "3. Query the table and make sure the data types match up to what you had in mind for each column."
      ]
    },
    {
      "cell_type": "code",
      "metadata": {
        "id": "QH-j6fuXdu0v",
        "colab": {
          "base_uri": "https://localhost:8080/"
        },
        "outputId": "0829052f-ca0e-4e34-e0c8-052006607ba7"
      },
      "source": [
        "# Your code goes here\n",
        "import sqlite3\n",
        "import pandas as pd\n",
        "crunchbase_iter = pd.read_csv(\"crunchbase-investments.csv\", encoding='latin1', chunksize = 5000)\n",
        "conn = sqlite3.connect('crunchbase_iter')\n",
        "for chunk in crunchbase_iter:\n",
        "    chunk.to_sql(\"exhibitions\", conn, if_exists='append', index=False)\n",
        "    results_df = pd.read_sql('PRAGMA table_info(exhibitions);', conn)\n",
        "print(results_df)"
      ],
      "execution_count": null,
      "outputs": [
        {
          "output_type": "stream",
          "name": "stdout",
          "text": [
            "    cid                    name     type  notnull dflt_value  pk\n",
            "0     0       company_permalink     TEXT        0       None   0\n",
            "1     1            company_name     TEXT        0       None   0\n",
            "2     2   company_category_code     TEXT        0       None   0\n",
            "3     3    company_country_code     TEXT        0       None   0\n",
            "4     4      company_state_code     TEXT        0       None   0\n",
            "5     5          company_region     TEXT        0       None   0\n",
            "6     6            company_city     TEXT        0       None   0\n",
            "7     7      investor_permalink     TEXT        0       None   0\n",
            "8     8           investor_name     TEXT        0       None   0\n",
            "9     9  investor_category_code     TEXT        0       None   0\n",
            "10   10   investor_country_code     TEXT        0       None   0\n",
            "11   11     investor_state_code     TEXT        0       None   0\n",
            "12   12         investor_region     TEXT        0       None   0\n",
            "13   13           investor_city     TEXT        0       None   0\n",
            "14   14      funding_round_type     TEXT        0       None   0\n",
            "15   15               funded_at     TEXT        0       None   0\n",
            "16   16            funded_month     TEXT        0       None   0\n",
            "17   17          funded_quarter     TEXT        0       None   0\n",
            "18   18             funded_year  INTEGER        0       None   0\n",
            "19   19       raised_amount_usd     REAL        0       None   0\n"
          ]
        }
      ]
    },
    {
      "cell_type": "markdown",
      "metadata": {
        "id": "Rt1jPEhseD8r"
      },
      "source": [
        "## Question 4: Next Steps"
      ]
    },
    {
      "cell_type": "markdown",
      "metadata": {
        "id": "Ggt-hEebeJGr"
      },
      "source": [
        "Now that the data is in SQLite, we can use the pandas SQLite workflow we learned in the last lesson to explore and analyze startup investments. Remember that each row isn't a unique company, but a unique investment from a single investor. This means that many startups will span multiple rows.\n",
        "\n",
        "Use the pandas SQLite workflow to answer the following questions:\n",
        "\n",
        "* What proportion of the total amount of funds did the top 10% raise? What about the top 1%? Compare these values to the proportions the bottom 10% and bottom 1% raised.\n",
        "* Which category of company attracted the most investments?\n",
        "* Which investor contributed the most money (across all startups)?\n",
        "* Which investors contributed the most money per startup?\n",
        "* Which funding round was the most popular? Which was the least popular?\n",
        "\n",
        "Here are some ideas for further exploration:\n",
        "\n",
        "* Repeat the tasks in this project using stricter memory constraints (under 1 megabyte).\n",
        "* Clean and analyze the other Crunchbase data sets from the same GitHub repo.\n",
        "* Understand which columns the data sets share, and how the data sets are linked.\n",
        "* Create a relational database design that links the data sets together and reduces the overall disk space the database file consumes.\n",
        "\n",
        "Use pandas to populate each table in the database, create the appropriate indexes, and so on."
      ]
    },
    {
      "cell_type": "markdown",
      "source": [
        "What proportion of the total amount of funds did the top 10% raise? What about the top 1%? Compare these values to the proportions the bottom 10% and bottom 1% raised."
      ],
      "metadata": {
        "id": "AMOkTu5YbbzS"
      }
    },
    {
      "cell_type": "code",
      "metadata": {
        "id": "FJo2f7N-ebgX",
        "colab": {
          "base_uri": "https://localhost:8080/"
        },
        "outputId": "884d6f96-bbc9-450f-eb03-e6e53e11a248"
      },
      "source": [
        "# Your code goes here\n",
        "q = 'select raised_amount_usd, count(*) as counts from exhibitions group by raised_amount_usd  order by counts desc;'\n",
        "eid_counts = pd.read_sql(q, conn)\n",
        "print(eid_counts[:10])"
      ],
      "execution_count": null,
      "outputs": [
        {
          "output_type": "stream",
          "name": "stdout",
          "text": [
            "   raised_amount_usd  counts\n",
            "0                NaN    3599\n",
            "1         10000000.0    2067\n",
            "2          1000000.0    1760\n",
            "3          5000000.0    1589\n",
            "4         15000000.0    1420\n",
            "5         20000000.0    1312\n",
            "6          2000000.0    1253\n",
            "7          1500000.0    1247\n",
            "8          3000000.0    1204\n",
            "9          6000000.0    1148\n"
          ]
        }
      ]
    },
    {
      "cell_type": "code",
      "source": [
        "q = 'select raised_amount_usd , count(*) as counts from exhibitions group by raised_amount_usd  order by counts asc;'\n",
        "eid_counts = pd.read_sql(q, conn)\n",
        "print(eid_counts[:10])"
      ],
      "metadata": {
        "colab": {
          "base_uri": "https://localhost:8080/"
        },
        "id": "dnCYFjtKbiQy",
        "outputId": "4fdbd86a-e0ad-4799-ba72-ff1cfb2e913d"
      },
      "execution_count": null,
      "outputs": [
        {
          "output_type": "stream",
          "name": "stdout",
          "text": [
            "   raised_amount_usd  counts\n",
            "0             2100.0       1\n",
            "1             5500.0       1\n",
            "2             5600.0       1\n",
            "3             6000.0       1\n",
            "4             8300.0       1\n",
            "5            11600.0       1\n",
            "6            11800.0       1\n",
            "7            13200.0       1\n",
            "8            15282.0       1\n",
            "9            16500.0       1\n"
          ]
        }
      ]
    },
    {
      "cell_type": "markdown",
      "source": [
        "Which category of company attracted the most investments?"
      ],
      "metadata": {
        "id": "t2fctUs7bt1_"
      }
    },
    {
      "cell_type": "code",
      "source": [
        "q = 'select company_category_code , count(*) as counts from exhibitions group by raised_amount_usd  order by counts desc;'\n",
        "eid_counts = pd.read_sql(q, conn)\n",
        "print(eid_counts[:10])\n"
      ],
      "metadata": {
        "colab": {
          "base_uri": "https://localhost:8080/"
        },
        "id": "QQ2qjeq2bwcG",
        "outputId": "5ebd0310-5415-4f8a-e892-0c01750adee9"
      },
      "execution_count": null,
      "outputs": [
        {
          "output_type": "stream",
          "name": "stdout",
          "text": [
            "  company_category_code  counts\n",
            "0                travel    3599\n",
            "1             cleantech    2067\n",
            "2                   web    1760\n",
            "3                mobile    1589\n",
            "4               biotech    1420\n",
            "5                mobile    1312\n",
            "6           advertising    1253\n",
            "7       network_hosting    1247\n",
            "8                  news    1204\n",
            "9           games_video    1148\n"
          ]
        }
      ]
    },
    {
      "cell_type": "markdown",
      "source": [
        "Which investor contributed the most money (across all startups)?"
      ],
      "metadata": {
        "id": "KYqKpaGwkxIa"
      }
    },
    {
      "cell_type": "code",
      "source": [
        "q = 'select investor_name , count(*) as counts from exhibitions group by raised_amount_usd and company_name order by counts desc;'\n",
        "eid_counts = pd.read_sql(q, conn)\n",
        "print(eid_counts[:10])"
      ],
      "metadata": {
        "colab": {
          "base_uri": "https://localhost:8080/"
        },
        "id": "_8IoiI08kzyQ",
        "outputId": "7a6c6f01-75d6-4c55-81f2-43935217e5fe"
      },
      "execution_count": null,
      "outputs": [
        {
          "output_type": "stream",
          "name": "stdout",
          "text": [
            "                    investor_name  counts\n",
            "0               1-800-FLOWERS.COM   52528\n",
            "1  American Pioneer Ventures, Ltd     321\n",
            "2                      Amplify.LA      21\n"
          ]
        }
      ]
    },
    {
      "cell_type": "markdown",
      "source": [
        "Which investors contributed the most money per startup?"
      ],
      "metadata": {
        "id": "GDErO3CmmanB"
      }
    },
    {
      "cell_type": "code",
      "source": [
        "q = 'select investor_name,raised_amount_usd , count(*) as counts from exhibitions group by raised_amount_usd order by raised_amount_usd  desc;'\n",
        "eid_counts = pd.read_sql(q, conn)\n",
        "print(eid_counts[:10])"
      ],
      "metadata": {
        "colab": {
          "base_uri": "https://localhost:8080/"
        },
        "id": "_cTSB1vpmdgP",
        "outputId": "97b88a79-5002-44b0-e87b-2f6888be83f4"
      },
      "execution_count": null,
      "outputs": [
        {
          "output_type": "stream",
          "name": "stdout",
          "text": [
            "               investor_name  raised_amount_usd  counts\n",
            "0                BrightHouse       3.200000e+09       5\n",
            "1     Marlin Equity Partners       2.600000e+09       1\n",
            "2                BrightHouse       1.500000e+09       8\n",
            "3                GI Partners       1.050000e+09       2\n",
            "4                     Google       1.000000e+09       1\n",
            "5        Andreessen Horowitz       9.500000e+08      10\n",
            "6                    Comcast       9.200000e+08       5\n",
            "7       Siemens PLM Software       7.500000e+08       1\n",
            "8              Goldman Sachs       5.650000e+08       1\n",
            "9  U.S. Department of Energy       5.350000e+08       1\n"
          ]
        }
      ]
    },
    {
      "cell_type": "markdown",
      "source": [
        "Which funding round was the most popular? Which was the least popular?"
      ],
      "metadata": {
        "id": "3cBz3jDymvXP"
      }
    },
    {
      "cell_type": "code",
      "source": [
        "q = 'select funding_round_type , count(*) as counts from exhibitions group by funding_round_type order by counts desc;'\n",
        "eid_counts = pd.read_sql(q, conn)\n",
        "print(eid_counts[:10])\n"
      ],
      "metadata": {
        "colab": {
          "base_uri": "https://localhost:8080/"
        },
        "id": "fR_sSS6zmx_h",
        "outputId": "15a9d1d2-e621-4d1c-d305-00bb4ae15ec2"
      },
      "execution_count": null,
      "outputs": [
        {
          "output_type": "stream",
          "name": "stdout",
          "text": [
            "  funding_round_type  counts\n",
            "0           series-a   13938\n",
            "1          series-c+   10870\n",
            "2              angel    8989\n",
            "3            venture    8917\n",
            "4           series-b    8794\n",
            "5              other     964\n",
            "6     private-equity     357\n",
            "7           post-ipo      33\n",
            "8       crowdfunding       5\n",
            "9               None       3\n"
          ]
        }
      ]
    },
    {
      "cell_type": "code",
      "source": [
        "q = 'select funding_round_type , count(*) as counts from exhibitions group by funding_round_type order by counts asc;'\n",
        "eid_counts = pd.read_sql(q, conn)\n",
        "print(eid_counts[:10])"
      ],
      "metadata": {
        "colab": {
          "base_uri": "https://localhost:8080/"
        },
        "id": "TpW-aKE9oGHf",
        "outputId": "4ed635fe-00cd-4155-bb56-692d1c8c119d"
      },
      "execution_count": null,
      "outputs": [
        {
          "output_type": "stream",
          "name": "stdout",
          "text": [
            "  funding_round_type  counts\n",
            "0               None       3\n",
            "1       crowdfunding       5\n",
            "2           post-ipo      33\n",
            "3     private-equity     357\n",
            "4              other     964\n",
            "5           series-b    8794\n",
            "6            venture    8917\n",
            "7              angel    8989\n",
            "8          series-c+   10870\n",
            "9           series-a   13938\n"
          ]
        }
      ]
    }
  ]
}